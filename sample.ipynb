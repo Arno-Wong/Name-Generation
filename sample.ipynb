{
 "cells": [
  {
   "cell_type": "code",
   "execution_count": 1,
   "metadata": {},
   "outputs": [
    {
     "name": "stderr",
     "output_type": "stream",
     "text": [
      "F:\\Wonderful Life\\Name Generation\\model.py:22: UserWarning: RNN module weights are not part of single contiguous chunk of memory. This means they need to be compacted at every call, possibly greatly increasing memory usage. To compact weights again call flatten_parameters().\n",
      "  output, hidden = self.lstm(embeds, hidden)\n"
     ]
    },
    {
     "name": "stdout",
     "output_type": "stream",
     "text": [
      "神秘客\n",
      "神秘客\n",
      "神秘客\n",
      "神秘客\n",
      "神秘客\n",
      "神秘客\n",
      "神秘客\n",
      "神秘客\n",
      "神秘客\n",
      "神秘客\n"
     ]
    },
    {
     "name": "stderr",
     "output_type": "stream",
     "text": [
      "F:\\Wonderful Life\\Name Generation\\model.py:25: UserWarning: Implicit dimension choice for log_softmax has been deprecated. Change the call to include dim=X as an argument.\n",
      "  output = self.softmax(output)\n"
     ]
    }
   ],
   "source": [
    "import torch\n",
    "import pickle as p\n",
    "from utils import *\n",
    "\n",
    "model = torch.load('name-gen.pt')\n",
    "max_length = 100\n",
    "file = open('wordDic_movie_mystery', 'rb')\n",
    "word_to_ix = p.load(file)\n",
    "file.close()\n",
    "\n",
    "def invert_dict(d):\n",
    "    return dict((v, k) for k, v in d.items())\n",
    "\n",
    "ix_to_word = invert_dict(word_to_ix)\n",
    "\n",
    "# Sample from a category and starting letter\n",
    "def sample(startWord='<START>'):\n",
    "    input = make_one_hot_vec_target(startWord, word_to_ix)\n",
    "    hidden = model.initHidden()\n",
    "    output_name = \"\";\n",
    "    if (startWord != \"<START>\"):\n",
    "        output_name = startWord\n",
    "    for i in range(max_length):\n",
    "        output, hidden = model(input.cuda(), hidden)\n",
    "        topv, topi = output.data.topk(1)\n",
    "        w = ix_to_word[topi.data.tolist()[0][0]]\n",
    "        if w == \"<EOP>\":\n",
    "            break\n",
    "        else:\n",
    "            output_name += w\n",
    "        input = make_one_hot_vec_target(w, word_to_ix)\n",
    "    return output_name\n",
    "\n",
    "for i in range(10):\n",
    "    print(sample())\n",
    "    #print(sample('万'))"
   ]
  },
  {
   "cell_type": "code",
   "execution_count": null,
   "metadata": {},
   "outputs": [],
   "source": []
  }
 ],
 "metadata": {
  "kernelspec": {
   "display_name": "Python 3",
   "language": "python",
   "name": "python3"
  },
  "language_info": {
   "codemirror_mode": {
    "name": "ipython",
    "version": 3
   },
   "file_extension": ".py",
   "mimetype": "text/x-python",
   "name": "python",
   "nbconvert_exporter": "python",
   "pygments_lexer": "ipython3",
   "version": "3.7.0"
  }
 },
 "nbformat": 4,
 "nbformat_minor": 2
}
